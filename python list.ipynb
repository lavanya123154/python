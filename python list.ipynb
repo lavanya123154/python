{
 "cells": [
  {
   "cell_type": "code",
   "execution_count": 40,
   "id": "45d1931a-a464-4d9b-90b9-d6408c1c58bf",
   "metadata": {},
   "outputs": [
    {
     "name": "stdout",
     "output_type": "stream",
     "text": [
      "[1, 2, 3, 4, 5, 6, 7, 8]\n"
     ]
    }
   ],
   "source": [
    "#concatenantion\n",
    "a=[1,2,3,4]\n",
    "b=[5,6,7,8]\n",
    "c=a+b\n",
    "print(c)"
   ]
  },
  {
   "cell_type": "code",
   "execution_count": 42,
   "id": "2d03484b-eb31-4737-908b-c1c0b8260dbe",
   "metadata": {},
   "outputs": [
    {
     "name": "stdout",
     "output_type": "stream",
     "text": [
      "[12, 13, 14, 12, 13, 14, 12, 13, 14]\n"
     ]
    }
   ],
   "source": [
    "#repetition\n",
    "a=[12,13,14]\n",
    "b=a*3\n",
    "print(b)"
   ]
  },
  {
   "cell_type": "code",
   "execution_count": 46,
   "id": "8531f17f-89bf-49db-8c6b-a4f68f5cdc6c",
   "metadata": {},
   "outputs": [
    {
     "name": "stdout",
     "output_type": "stream",
     "text": [
      "['rama', 'sita', 'latha']\n",
      "['kalyan', 'sita', 'latha']\n"
     ]
    }
   ],
   "source": [
    " no=[\"rama\",\"sita\",\"latha\"]\n",
    " print(no)\n",
    " no[0]=\"kalyan\"\n",
    " print(no)\n",
    "     "
   ]
  },
  {
   "cell_type": "code",
   "execution_count": 48,
   "id": "45b75313-f2c5-4fef-9ab9-17279aedca7f",
   "metadata": {},
   "outputs": [
    {
     "name": "stdout",
     "output_type": "stream",
     "text": [
      "['rama', 'sita', 'latha', 'hittu']\n",
      "['rama', 'kalyan', 'paaru', 'hittu']\n"
     ]
    }
   ],
   "source": [
    " no=[\"rama\",\"sita\",\"latha\",\"hittu\"]\n",
    " print(no)\n",
    " no[1:3]=[\"kalyan\",\"paaru\"]\n",
    " print(no)"
   ]
  },
  {
   "cell_type": "code",
   "execution_count": 52,
   "id": "dcd8fabc-b1e1-4cdd-9db1-9fd2b4f6777e",
   "metadata": {},
   "outputs": [
    {
     "name": "stdout",
     "output_type": "stream",
     "text": [
      "[5, 6, 7, 8, 50]\n"
     ]
    }
   ],
   "source": [
    "no=[5,6,7,8]\n",
    "no.append(50)\n",
    "print(no)"
   ]
  },
  {
   "cell_type": "code",
   "execution_count": 56,
   "id": "5c21f9c0-e2f0-4501-be6e-f1243bfe8b81",
   "metadata": {},
   "outputs": [
    {
     "name": "stdout",
     "output_type": "stream",
     "text": [
      "[5, 6, 7, 8, 9, 10, 11, 12]\n"
     ]
    }
   ],
   "source": [
    "no=[5,6,7,8]\n",
    "more_no=[9,10,11,12]\n",
    "no.extend(more_no)\n",
    "print(no)"
   ]
  },
  {
   "cell_type": "code",
   "execution_count": 68,
   "id": "1da5aff3-f739-4c5a-9d7f-2dceed2054d4",
   "metadata": {},
   "outputs": [
    {
     "name": "stdout",
     "output_type": "stream",
     "text": [
      "[5, 6, 7, 8, 50]\n",
      "[5, 6, 7, 8, 9, 10, 50]\n"
     ]
    }
   ],
   "source": [
    "no=[5,6,7,8]\n",
    "no.insert(7,50)\n",
    "print(no)\n",
    "no=[5,6,7,8,9,10]\n",
    "no.insert(10,50)\n",
    "print(no)\n"
   ]
  },
  {
   "cell_type": "code",
   "execution_count": 74,
   "id": "c6740f48-a091-49a3-b43e-d281d01a839e",
   "metadata": {},
   "outputs": [
    {
     "name": "stdout",
     "output_type": "stream",
     "text": [
      "[5, 6, 8]\n"
     ]
    }
   ],
   "source": [
    "no=[5,6,7,8]\n",
    "no.remove(7)\n",
    "print(no)"
   ]
  },
  {
   "cell_type": "code",
   "execution_count": 76,
   "id": "2901102f-6d9d-434f-9715-d5702cb0c603",
   "metadata": {},
   "outputs": [
    {
     "name": "stdout",
     "output_type": "stream",
     "text": [
      "[5, 6, 7, 8]\n"
     ]
    }
   ],
   "source": [
    "no=[5,6,7,8]\n",
    "no.count(7)\n",
    "print(no)"
   ]
  },
  {
   "cell_type": "code",
   "execution_count": 84,
   "id": "0bb0367e-be6e-4ce7-a900-461a1fd2eeb0",
   "metadata": {},
   "outputs": [
    {
     "name": "stdout",
     "output_type": "stream",
     "text": [
      "[5, 7, 8, 23, 30, 34, 50, 56, 78]\n"
     ]
    }
   ],
   "source": [
    "no=[5,30,50,7,8,23,34,56,78]\n",
    "no.sort()\n",
    "print(no)"
   ]
  },
  {
   "cell_type": "code",
   "execution_count": 90,
   "id": "4e733ecf-e315-4c44-9441-688e212cca2a",
   "metadata": {},
   "outputs": [
    {
     "name": "stdout",
     "output_type": "stream",
     "text": [
      "[8, 7, 6, 5]\n",
      "[4, 2, 67, 45, 8, 7, 6, 5]\n"
     ]
    }
   ],
   "source": [
    "no=[5,6,7,8]\n",
    "no.reverse()\n",
    "print(no)\n",
    "no=[5,6,7,8,45,67,2,4]\n",
    "no.reverse()\n",
    "print(no)"
   ]
  },
  {
   "cell_type": "code",
   "execution_count": 101,
   "id": "35dde593-b8c1-4462-b773-335d97176d3f",
   "metadata": {},
   "outputs": [
    {
     "name": "stdout",
     "output_type": "stream",
     "text": [
      "[5, 6, 7, 8, 11, 12]\n",
      "13\n",
      "2\n"
     ]
    }
   ],
   "source": [
    "no=[5,6,7,8,11,12,13]\n",
    "popped_element=no.pop(6)\n",
    "print(no)\n",
    "print(popped_element)\n",
    "\n",
    "#index\n",
    "no=[23,56,78,45,89,56]\n",
    "index=no.index(78)\n",
    "print(index)\n"
   ]
  },
  {
   "cell_type": "code",
   "execution_count": 111,
   "id": "79c29636-e198-49d9-b80f-1a6e8f6d89b7",
   "metadata": {},
   "outputs": [
    {
     "name": "stdout",
     "output_type": "stream",
     "text": [
      "namo venkatesha\n",
      "ramramramramramramramramramram\n"
     ]
    }
   ],
   "source": [
    "#strings\n",
    "str1=\"namo\"\n",
    "str2=\"venkatesha\"\n",
    "result=str1+\" \"+str2\n",
    "print(result)\n",
    "\n",
    "#repetition\n",
    "str1=\"ram\"\n",
    "result=str1*10\n",
    "print(result)"
   ]
  },
  {
   "cell_type": "code",
   "execution_count": null,
   "id": "bfbc8353-0b4c-4a3e-ba96-f1d045937a59",
   "metadata": {},
   "outputs": [],
   "source": []
  }
 ],
 "metadata": {
  "kernelspec": {
   "display_name": "Python 3 (ipykernel)",
   "language": "python",
   "name": "python3"
  },
  "language_info": {
   "codemirror_mode": {
    "name": "ipython",
    "version": 3
   },
   "file_extension": ".py",
   "mimetype": "text/x-python",
   "name": "python",
   "nbconvert_exporter": "python",
   "pygments_lexer": "ipython3",
   "version": "3.12.4"
  }
 },
 "nbformat": 4,
 "nbformat_minor": 5
}
