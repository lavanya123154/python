{
 "cells": [
  {
   "cell_type": "code",
   "execution_count": 61,
   "id": "43570697-f37a-4d7a-ad45-7300cc9ea23e",
   "metadata": {},
   "outputs": [
    {
     "name": "stdout",
     "output_type": "stream",
     "text": [
      "hello world\n",
      "human life\n",
      "humanhumanhumanhumanhuman\n",
      "i\n",
      "fe is\n",
      "LIFE IS BEAUTIFUL\n",
      "life is beautiful\n",
      "life is funny\n",
      "3\n",
      "['life', 'is', 'beautiful']\n",
      "life is beautiful\n",
      "b\n"
     ]
    }
   ],
   "source": [
    "#string data type\n",
    "str1=\"hello\"\n",
    "str2=\"world\"\n",
    "result=str1+\" \"+str2\n",
    "print(result)\n",
    "str1=\"human\"\n",
    "str2=\"life\"\n",
    "result=str1+\" \"+str2\n",
    "print(result)\n",
    "\n",
    "#repetition\n",
    "result=str1*5\n",
    "print(result)\n",
    "\n",
    "#indexing\n",
    "#slicing\n",
    "string=\"life is beautiful\"\n",
    "print(string[5])\n",
    "print(string[2:7])\n",
    "\n",
    "#methods\n",
    "string=\"life is beautiful\"\n",
    "print(string.upper())\n",
    "print(string.lower())\n",
    "\n",
    "#replace\n",
    "string=\"life is beautiful\"\n",
    "print(string.replace(\"beautiful\",\"funny\"))\n",
    "\n",
    "#count\n",
    "string=\"life is beautiful\"\n",
    "print(string.count('i'))\n",
    "\n",
    "#split\n",
    "string=\"life is beautiful\"\n",
    "print(string.split())\n",
    "\n",
    "#strip\n",
    "string=\"life is beautiful\"\n",
    "print(string.strip())\n",
    "\n",
    "#join\n",
    "string=\"life is beautiful\"\n",
    "print(string.join('b'))\n",
    "\n",
    "\n"
   ]
  },
  {
   "cell_type": "code",
   "execution_count": 5,
   "id": "87c2eae9-2c2c-4fcb-93b4-d73532b8afba",
   "metadata": {},
   "outputs": [
    {
     "ename": "SyntaxError",
     "evalue": "':' expected after dictionary key (3401399824.py, line 2)",
     "output_type": "error",
     "traceback": [
      "\u001b[1;36m  Cell \u001b[1;32mIn[5], line 2\u001b[1;36m\u001b[0m\n\u001b[1;33m    dic={'address':'srikakulam','pincode'':532456','phno':85}\u001b[0m\n\u001b[1;37m                                                 ^\u001b[0m\n\u001b[1;31mSyntaxError\u001b[0m\u001b[1;31m:\u001b[0m ':' expected after dictionary key\n"
     ]
    }
   ],
   "source": [
    "\n"
   ]
  },
  {
   "cell_type": "code",
   "execution_count": null,
   "id": "28f4c629-f704-4701-adf5-b96575a4386a",
   "metadata": {},
   "outputs": [],
   "source": []
  }
 ],
 "metadata": {
  "kernelspec": {
   "display_name": "Python 3 (ipykernel)",
   "language": "python",
   "name": "python3"
  },
  "language_info": {
   "codemirror_mode": {
    "name": "ipython",
    "version": 3
   },
   "file_extension": ".py",
   "mimetype": "text/x-python",
   "name": "python",
   "nbconvert_exporter": "python",
   "pygments_lexer": "ipython3",
   "version": "3.12.4"
  }
 },
 "nbformat": 4,
 "nbformat_minor": 5
}
