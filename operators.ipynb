{
 "cells": [
  {
   "cell_type": "code",
   "execution_count": 4,
   "id": "3c2f0a92-e2dd-4bf5-9e46-82d62ba668c4",
   "metadata": {},
   "outputs": [
    {
     "name": "stdout",
     "output_type": "stream",
     "text": [
      "500\n",
      "-100\n",
      "60000\n",
      "0.6666666666666666\n",
      "200\n",
      "0\n"
     ]
    }
   ],
   "source": [
    " #arthemetic operators\n",
    "#addition\n",
    "a=200\n",
    "b=300\n",
    "c=a+b\n",
    "print(c)\n",
    "\n",
    "#subtraction\n",
    "e=a-b\n",
    "print(e)\n",
    "\n",
    "#multiplication\n",
    "d=a*b\n",
    "print(d)\n",
    "\n",
    "#divison\n",
    "f=a/b\n",
    "print(f)\n",
    "\n",
    "#modulus\n",
    "k=a%b\n",
    "print(k)\n",
    "\n",
    "#floor division\n",
    "m=a//b\n",
    "print(m)"
   ]
  },
  {
   "cell_type": "code",
   "execution_count": 6,
   "id": "775da2ea-6852-4067-bad8-3f66c5351b54",
   "metadata": {},
   "outputs": [
    {
     "name": "stdout",
     "output_type": "stream",
     "text": [
      "28\n",
      "13\n",
      "195\n",
      "13.0\n",
      "13.0\n",
      "5.118589301409076e+16\n"
     ]
    }
   ],
   "source": [
    "#assignment operators\n",
    "a=13\n",
    "b=15\n",
    "\n",
    "#addition assignment\n",
    "a+=b\n",
    "print(a)\n",
    "\n",
    "#subtraction assignment\n",
    "a-=b\n",
    "print(a)\n",
    "\n",
    "#multiplication assignment\n",
    "a*=b\n",
    "print(a)\n",
    "\n",
    "#division assignment\n",
    "a/=b\n",
    "print(a)\n",
    "\n",
    "#modulus assignment\n",
    "a%=b\n",
    "print(a)\n",
    "\n",
    "#exponent assignment\n",
    "a**=b\n",
    "print(a)"
   ]
  },
  {
   "cell_type": "code",
   "execution_count": 10,
   "id": "37b3bded-5089-4a7c-9977-499fef37178a",
   "metadata": {},
   "outputs": [
    {
     "data": {
      "text/plain": [
       "True"
      ]
     },
     "execution_count": 10,
     "metadata": {},
     "output_type": "execute_result"
    }
   ],
   "source": [
    "#comparision operator\n",
    "#is equal to\n",
    "c=100\n",
    "f=100\n",
    "c==f\n",
    "True\n",
    "#not equal to \n",
    "a=50\n",
    "b=40\n",
    "a!=blue\n",
    "True\n",
    "#lessthan\n",
    "a=44\n",
    "b=4444\n",
    "a<b\n",
    "True\n",
    "#lessthan or equal to\n",
    "a=4\n",
    "b=4\n",
    "a<=b\n",
    "True\n",
    "#greaterthan or equal to\n",
    "a=555\n",
    "b=68\n",
    "a>b"
   ]
  },
  {
   "cell_type": "code",
   "execution_count": 12,
   "id": "f02b7984-9ecb-463e-bd5f-b0474a71f9cd",
   "metadata": {},
   "outputs": [
    {
     "name": "stdout",
     "output_type": "stream",
     "text": [
      "False\n",
      "True\n",
      "True\n",
      "False\n"
     ]
    }
   ],
   "source": [
    "#logical operators\n",
    "a=555\n",
    "b=291\n",
    "c=a is b\n",
    "d=a is not b\n",
    "\n",
    "#and \n",
    "f=c and d\n",
    "print(f)\n",
    "\n",
    "#or\n",
    "f=c or d\n",
    "print(f)\n",
    "\n",
    "#not\n",
    "print(not(c))\n",
    "print(not(d))"
   ]
  },
  {
   "cell_type": "code",
   "execution_count": 14,
   "id": "be4047d3-0339-40a5-9300-0be66d4ae8f9",
   "metadata": {},
   "outputs": [
    {
     "name": "stdout",
     "output_type": "stream",
     "text": [
      "True\n",
      "True\n"
     ]
    }
   ],
   "source": [
    "#identity operator\n",
    "#is \n",
    "babu=\"human\"\n",
    "rishi=\"human\"\n",
    "c=babu is rishi\n",
    "print(c)\n",
    "\n",
    "#is not\n",
    "babu=\"human\"\n",
    "rishi=\"robot\"\n",
    "k=babu is not rishi\n",
    "print(k)"
   ]
  },
  {
   "cell_type": "code",
   "execution_count": 20,
   "id": "97c49006-76d2-4b64-aad3-3e17dee04123",
   "metadata": {},
   "outputs": [
    {
     "name": "stdout",
     "output_type": "stream",
     "text": [
      "True\n",
      "False\n"
     ]
    }
   ],
   "source": [
    "#membership operator\n",
    "x='sita rama'\n",
    "y=[2345678]\n",
    "#in\n",
    "print('i' in x)\n",
    "print('sita' not in x)"
   ]
  }
 ],
 "metadata": {
  "kernelspec": {
   "display_name": "Python 3 (ipykernel)",
   "language": "python",
   "name": "python3"
  },
  "language_info": {
   "codemirror_mode": {
    "name": "ipython",
    "version": 3
   },
   "file_extension": ".py",
   "mimetype": "text/x-python",
   "name": "python",
   "nbconvert_exporter": "python",
   "pygments_lexer": "ipython3",
   "version": "3.12.4"
  }
 },
 "nbformat": 4,
 "nbformat_minor": 5
}
