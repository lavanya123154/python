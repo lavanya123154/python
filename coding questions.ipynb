{
 "cells": [
  {
   "cell_type": "code",
   "execution_count": 9,
   "id": "0c43828b-4e9c-4512-9e0d-656027c16bb6",
   "metadata": {},
   "outputs": [
    {
     "name": "stdout",
     "output_type": "stream",
     "text": [
      "x = 20   y = 10\n"
     ]
    }
   ],
   "source": [
    "#1 swap two numbers\n",
    "x=10\n",
    "y=20\n",
    "x,y=y,x \n",
    "print(\"x =\",x,\"  y =\",y)"
   ]
  },
  {
   "cell_type": "code",
   "execution_count": 11,
   "id": "bb532871-b422-4706-bcab-d6b469138b7c",
   "metadata": {},
   "outputs": [
    {
     "name": "stdout",
     "output_type": "stream",
     "text": [
      "225\n"
     ]
    }
   ],
   "source": [
    "#2 square number\n",
    "n=15\n",
    "sq=n*n\n",
    "print(sq)"
   ]
  },
  {
   "cell_type": "code",
   "execution_count": 15,
   "id": "e5e372e4-9226-4080-90d0-8d8499ffc4d1",
   "metadata": {},
   "outputs": [
    {
     "name": "stdout",
     "output_type": "stream",
     "text": [
      "100\n",
      "6\n"
     ]
    }
   ],
   "source": [
    "#3 maximum number\n",
    "numbers=[8,99,6,77,100]\n",
    "print(max(numbers))\n",
    "\n",
    "#4 minum number\n",
    "print(min(numbers))"
   ]
  },
  {
   "cell_type": "code",
   "execution_count": 21,
   "id": "193ce853-c6e0-4682-a0b5-ba7adcf95455",
   "metadata": {},
   "outputs": [
    {
     "name": "stdout",
     "output_type": "stream",
     "text": [
      "design\n"
     ]
    }
   ],
   "source": [
    "#5 copy string\n",
    "copy= \"design\"\n",
    "copy1= ''+copy\n",
    "print(copy1)"
   ]
  },
  {
   "cell_type": "code",
   "execution_count": 27,
   "id": "5a37d575-afcd-4100-a3f3-4e77a6e3c19c",
   "metadata": {},
   "outputs": [
    {
     "name": "stdout",
     "output_type": "stream",
     "text": [
      "2\n"
     ]
    }
   ],
   "source": [
    "#6 count the number of occurance of a character in string\n",
    "jungle=\"elephant\"\n",
    "jun=\"e\"\n",
    "print(jungle.count(jun))"
   ]
  },
  {
   "cell_type": "code",
   "execution_count": 35,
   "id": "057e8aba-3370-4074-a9b7-d8d8122082c2",
   "metadata": {},
   "outputs": [
    {
     "name": "stdout",
     "output_type": "stream",
     "text": [
      "3\n"
     ]
    }
   ],
   "source": [
    "#7 counting vowel in word\n",
    "import re\n",
    "jungle=\"elephant\"\n",
    "vowels=r\"[aeiouAEIOU]\"\n",
    "count= len(re.findall(vowels,jungle))\n",
    "print(count)"
   ]
  },
  {
   "cell_type": "code",
   "execution_count": 45,
   "id": "fdc562b9-47a5-4371-af34-ff45e413e920",
   "metadata": {},
   "outputs": [
    {
     "name": "stdout",
     "output_type": "stream",
     "text": [
      "[3, 4, 5, 6, 7, 8, 9]\n"
     ]
    }
   ],
   "source": [
    "#8 remove duplicates from list\n",
    "names=[9,8,7,6,7,8,5,4,3,4]\n",
    "print(list(set(names)))"
   ]
  },
  {
   "cell_type": "code",
   "execution_count": 55,
   "id": "cf77bb8b-ecb1-4bf1-9d4e-b4dcb127b73c",
   "metadata": {},
   "outputs": [
    {
     "name": "stdout",
     "output_type": "stream",
     "text": [
      "biryani is very tasty\n"
     ]
    }
   ],
   "source": [
    "#9 reverse string\n",
    "list=\"biryani is very tasty\"\n",
    "words= ''.join(list)\n",
    "print(words)\n"
   ]
  },
  {
   "cell_type": "code",
   "execution_count": 59,
   "id": "6fbc1b04-d390-4b0f-bb5e-70a14ca8de68",
   "metadata": {},
   "outputs": [
    {
     "ename": "SyntaxError",
     "evalue": "invalid decimal literal (136306079.py, line 3)",
     "output_type": "error",
     "traceback": [
      "\u001b[1;36m  Cell \u001b[1;32mIn[59], line 3\u001b[1;36m\u001b[0m\n\u001b[1;33m    1_sorted=sorted(a)\u001b[0m\n\u001b[1;37m     ^\u001b[0m\n\u001b[1;31mSyntaxError\u001b[0m\u001b[1;31m:\u001b[0m invalid decimal literal\n"
     ]
    }
   ],
   "source": [
    "#10 sort character in string\n",
    "a='dhtfuyh'\n",
    "1_sorted=sorted(a)\n",
    "print(1_sorted)\n",
    "print(a)"
   ]
  },
  {
   "cell_type": "code",
   "execution_count": null,
   "id": "20d0aaeb-93e6-47da-a929-a35b316b71f5",
   "metadata": {},
   "outputs": [],
   "source": []
  }
 ],
 "metadata": {
  "kernelspec": {
   "display_name": "Python 3 (ipykernel)",
   "language": "python",
   "name": "python3"
  },
  "language_info": {
   "codemirror_mode": {
    "name": "ipython",
    "version": 3
   },
   "file_extension": ".py",
   "mimetype": "text/x-python",
   "name": "python",
   "nbconvert_exporter": "python",
   "pygments_lexer": "ipython3",
   "version": "3.12.4"
  }
 },
 "nbformat": 4,
 "nbformat_minor": 5
}
